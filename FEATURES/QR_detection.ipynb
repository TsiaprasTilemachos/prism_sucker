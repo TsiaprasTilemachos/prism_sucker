{
 "cells": [
  {
   "cell_type": "markdown",
   "metadata": {},
   "source": [
    "<p  style=\"text-align: left;font-family: consolas; font-size: 12px; font-weight:bold;\">\n",
    "    author: Tsiapras Tilemachos \n",
    "</p>\n",
    "<p  style=\"text-align: left;font-family: consolas; font-size: 12px; font-weight:bold;\">\n",
    "    date: 09/09/2022\n",
    "</p>\n",
    "<p  style=\"text-align: left;font-family: consolas; font-size: 12px; font-weight:bold;\">\n",
    "    revision: 1\n",
    "</p>\n",
    "\n",
    "<h1 style=\"font-family: arial, sans-serif; font-size:50px; color: #004225;text-align: center\">  \n",
    "[tt]\n",
    "</h1>\n",
    "<h1 style=\"font-family: arial, sans-serif; font-size: 20px; color: #000000;font-style: normal; font-weight: normal; font-variant: small-caps; text-align: center; letter-spacing: 0px; line-height: 20px;\">\n",
    "QR detection using openCv</h1>"
   ]
  },
  {
   "cell_type": "code",
   "execution_count": 1,
   "metadata": {},
   "outputs": [],
   "source": [
    "import cv2 as cv\n",
    "import numpy as np"
   ]
  },
  {
   "cell_type": "code",
   "execution_count": 2,
   "metadata": {},
   "outputs": [],
   "source": [
    "detector = cv.QRCodeDetector()"
   ]
  },
  {
   "cell_type": "code",
   "execution_count": 6,
   "metadata": {},
   "outputs": [],
   "source": [
    "cap = cv.VideoCapture(0) #capture video from host webcamera\n",
    "while(1):\n",
    "    ret, frame = cap.read()\n",
    "    gray = cv.cvtColor(frame,cv.COLOR_BGR2GRAY)\n",
    "    \n",
    "    value, points, clear = detector.detectAndDecode(gray)\n",
    "    \n",
    "    if(len(value)>0):\n",
    "        x = points[0][:,0].mean()# center of mass\n",
    "        l = points[0][:,1].min(); r = points[0][:,1].max()\n",
    "        y = points[0][:,1].mean()# center of mass\n",
    "        t = points[0][:,0].min(); b = points[0][:,0].max()\n",
    "        mask = np.zeros(frame.shape)\n",
    "        mask[0:(int(r)-int(l)),0:(int(b)-int(t)),:3]=frame[int(l):int(r),int(t):int(b),:3]\n",
    "        mask = mask.astype(np.uint8)\n",
    "        \n",
    "        \n",
    "        cv.putText(frame,value,[int(x)-50,int(y)-100],fontScale = 0.6,fontFace = cv.FONT_HERSHEY_COMPLEX,color = (0,100,0),thickness = 2)\n",
    "        cv.drawContours(frame,[np.reshape(np.int0(points),(4,2))],-1,(0,100,0),2)\n",
    "        clear_L = cv.resize(clear,(640,640),0,0, interpolation = cv.INTER_NEAREST)\n",
    "        \n",
    "        cv.imshow(\"QR\",clear_L)\n",
    "        cv.imshow(\"Mask\",mask)\n",
    "        \n",
    "    if(ret == True):\n",
    "        cv.imshow(\"frame\",frame)\n",
    "        \n",
    "        \n",
    "    key = cv.waitKey(10);\n",
    "    if(key == 113): # q\n",
    "        break\n",
    "        \n",
    "        \n",
    "cv.destroyAllWindows()\n",
    "cap.release()"
   ]
  },
  {
   "cell_type": "code",
   "execution_count": null,
   "metadata": {},
   "outputs": [],
   "source": []
  }
 ],
 "metadata": {
  "kernelspec": {
   "display_name": "Python 3",
   "language": "python",
   "name": "python3"
  },
  "language_info": {
   "codemirror_mode": {
    "name": "ipython",
    "version": 3
   },
   "file_extension": ".py",
   "mimetype": "text/x-python",
   "name": "python",
   "nbconvert_exporter": "python",
   "pygments_lexer": "ipython3",
   "version": "3.7.3"
  }
 },
 "nbformat": 4,
 "nbformat_minor": 2
}
