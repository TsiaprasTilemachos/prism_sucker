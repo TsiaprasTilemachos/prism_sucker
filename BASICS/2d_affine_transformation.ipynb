{
 "cells": [
  {
   "cell_type": "markdown",
   "metadata": {},
   "source": [
    "<p  style=\"text-align: left;font-family: consolas; font-size: 12px; font-weight:bold;\">\n",
    "    author: Tsiapras Tilemachos \n",
    "</p>\n",
    "<p  style=\"text-align: left;font-family: consolas; font-size: 12px; font-weight:bold;\">\n",
    "    date: 8/03/2022\n",
    "</p>\n",
    "<p  style=\"text-align: left;font-family: consolas; font-size: 12px; font-weight:bold;\">\n",
    "    revision: 1\n",
    "</p>\n",
    "\n",
    "<h1 style=\"font-family: arial, sans-serif; font-size:50px; color: #004225;text-align: center\">  \n",
    "[tt]\n",
    "</h1>\n",
    "<p style=\"font-family: arial, sans-serif; font-size: 16px; color: #000000; font-style: normal; font-weight: bold; font-variant: small-caps; text-align: left; letter-spacing: 0px; line-height: 20px;\">\n",
    "2D affine transformation.\n",
    "</p>\n",
    "<p style=\"font-family: arial, sans-serif; font-size: 16px; color: #000000; font-style: normal; font-weight: bold; font-variant: small-caps; text-align: left; letter-spacing: 0px; line-height: 20px;\">\n",
    "Affine means that the angles between lines are not preserved but the the parrallel lines remain parallel.\n",
    "</p>"
   ]
  },
  {
   "cell_type": "code",
   "execution_count": 2,
   "metadata": {},
   "outputs": [],
   "source": [
    "import matplotlib.pyplot as plt\n",
    "import numpy as np\n",
    "from tabulate import tabulate"
   ]
  },
  {
   "cell_type": "code",
   "execution_count": 4,
   "metadata": {},
   "outputs": [
    {
     "data": {
      "text/plain": [
       "<matplotlib.image.AxesImage at 0x263f450e198>"
      ]
     },
     "execution_count": 4,
     "metadata": {},
     "output_type": "execute_result"
    },
    {
     "data": {
      "image/png": "[encoded data removed]",
      "text/plain": [
       "<Figure size 432x288 with 1 Axes>"
      ]
     },
     "metadata": {
      "needs_background": "light"
     },
     "output_type": "display_data"
    }
   ],
   "source": [
    "col = plt.imread(r\"C:\\Users\\ttsiapras\\Pictures\\testImage.png\",0)[:,:,0]\n",
    "plt.imshow(col)\n"
   ]
  },
  {
   "cell_type": "code",
   "execution_count": 5,
   "metadata": {},
   "outputs": [],
   "source": [
    "def reset_poins():\n",
    "    global points\n",
    "    y = np.arange(479,-1,-1)\n",
    "    x = np.arange(0,480)\n",
    "    xx,yy = np.meshgrid(x,y)\n",
    "\n",
    "    xx = xx.flatten()\n",
    "    yy = yy.flatten()\n",
    "    ww = np.ones(yy.shape)\n",
    "    points = np.vstack([xx,yy,ww]).T"
   ]
  },
  {
   "cell_type": "code",
   "execution_count": 6,
   "metadata": {},
   "outputs": [
    {
     "data": {
      "text/plain": [
       "<matplotlib.collections.QuadMesh at 0x263f45ba898>"
      ]
     },
     "execution_count": 6,
     "metadata": {},
     "output_type": "execute_result"
    },
    {
     "data": {
      "image/png": "[encoded data removed]",
      "text/plain": [
       "<Figure size 360x360 with 1 Axes>"
      ]
     },
     "metadata": {
      "needs_background": "light"
     },
     "output_type": "display_data"
    }
   ],
   "source": [
    "reset_poins()\n",
    "col = col.flatten()\n",
    "\n",
    "plt.figure(figsize=(5,5))\n",
    "plt.pcolormesh(np.reshape(points[:,0],(480,480)),\n",
    "              np.reshape(points[:,1],(480,480)),\n",
    "              np.reshape(col,(480,480)))"
   ]
  },
  {
   "cell_type": "code",
   "execution_count": 7,
   "metadata": {},
   "outputs": [],
   "source": [
    "def apply_transformation(points,col,table):\n",
    "    for i in range(points.shape[0]):\n",
    "        points[i] = table@points[i]\n",
    "    \n",
    "    plt.figure(figsize = (5,5))\n",
    "    plt.pcolormesh(np.reshape(points[:,0],(480,480)),\n",
    "              np.reshape(points[:,1],(480,480)),\n",
    "              np.reshape(col,(480,480)))\n",
    "    plt.grid()\n",
    "    plt.xlim([-500, 500])\n",
    "    plt.ylim([-100, 900])"
   ]
  },
  {
   "cell_type": "markdown",
   "metadata": {},
   "source": [
    "## Simple 2D rotation"
   ]
  },
  {
   "cell_type": "code",
   "execution_count": 8,
   "metadata": {},
   "outputs": [
    {
     "name": "stdout",
     "output_type": "stream",
     "text": [
      "Rotation Component:\n",
      "\n",
      "╒═══════════╤══════════╤═══╕\n",
      "│  0.984808 │ 0.173648 │ 0 │\n",
      "├───────────┼──────────┼───┤\n",
      "│ -0.173648 │ 0.984808 │ 0 │\n",
      "├───────────┼──────────┼───┤\n",
      "│  0        │ 0        │ 1 │\n",
      "╘═══════════╧══════════╧═══╛\n"
     ]
    },
    {
     "data": {
      "image/png": "[encoded data removed]",
      "text/plain": [
       "<Figure size 360x360 with 1 Axes>"
      ]
     },
     "metadata": {
      "needs_background": "light"
     },
     "output_type": "display_data"
    }
   ],
   "source": [
    "W = np.radians(10)\n",
    "R = np.array([[np.cos(W),np.sin(W),0],[-np.sin(W),np.cos(W),0],[0,0,1]])\n",
    "print(\"Rotation Component:\\n\")\n",
    "print(tabulate(R, tablefmt=\"fancy_grid\"))\n",
    "\n",
    "apply_transformation(points,col,R)"
   ]
  },
  {
   "cell_type": "markdown",
   "metadata": {},
   "source": [
    "## Simple 2D translation"
   ]
  },
  {
   "cell_type": "code",
   "execution_count": 9,
   "metadata": {},
   "outputs": [
    {
     "name": "stdout",
     "output_type": "stream",
     "text": [
      "Translation Component:\n",
      "\n",
      "╒═══╤═══╤════╕\n",
      "│ 1 │ 0 │ 60 │\n",
      "├───┼───┼────┤\n",
      "│ 0 │ 1 │  0 │\n",
      "├───┼───┼────┤\n",
      "│ 0 │ 0 │  1 │\n",
      "╘═══╧═══╧════╛\n"
     ]
    },
    {
     "data": {
      "image/png": "[encoded data removed]",
      "text/plain": [
       "<Figure size 360x360 with 1 Axes>"
      ]
     },
     "metadata": {
      "needs_background": "light"
     },
     "output_type": "display_data"
    }
   ],
   "source": [
    "tx = 60\n",
    "ty = 0\n",
    "T = np.array([[1,0,tx],[0,1,ty],[0,0,1]])\n",
    "print(\"Translation Component:\\n\")\n",
    "print(tabulate(T, tablefmt=\"fancy_grid\"))\n",
    "\n",
    "apply_transformation(points,col,T)"
   ]
  },
  {
   "cell_type": "markdown",
   "metadata": {},
   "source": [
    "## Simple 2D scalling"
   ]
  },
  {
   "cell_type": "code",
   "execution_count": 10,
   "metadata": {},
   "outputs": [
    {
     "name": "stdout",
     "output_type": "stream",
     "text": [
      "Scalling Component:\n",
      "\n",
      "╒═══╤═══╤═══╕\n",
      "│ 2 │ 0 │ 0 │\n",
      "├───┼───┼───┤\n",
      "│ 0 │ 2 │ 0 │\n",
      "├───┼───┼───┤\n",
      "│ 0 │ 0 │ 1 │\n",
      "╘═══╧═══╧═══╛\n"
     ]
    },
    {
     "data": {
      "image/png": "[encoded data removed]",
      "text/plain": [
       "<Figure size 360x360 with 1 Axes>"
      ]
     },
     "metadata": {
      "needs_background": "light"
     },
     "output_type": "display_data"
    }
   ],
   "source": [
    "sx = 2\n",
    "sy = 2\n",
    "S = np.array([[sx,0,0],[0,sy,0],[0,0,1]])\n",
    "print(\"Scalling Component:\\n\")\n",
    "print(tabulate(S, tablefmt=\"fancy_grid\"))\n",
    "\n",
    "apply_transformation(points,col,S)"
   ]
  },
  {
   "cell_type": "markdown",
   "metadata": {},
   "source": [
    "## Simple shear in X andY dirrection"
   ]
  },
  {
   "cell_type": "code",
   "execution_count": 11,
   "metadata": {
    "scrolled": false
   },
   "outputs": [
    {
     "name": "stdout",
     "output_type": "stream",
     "text": [
      "Shear Component:\n",
      "\n",
      "╒═══════════╤═══════════╤═══╕\n",
      "│ 1         │ 0.0874887 │ 0 │\n",
      "├───────────┼───────────┼───┤\n",
      "│ 0.0874887 │ 1         │ 0 │\n",
      "├───────────┼───────────┼───┤\n",
      "│ 0         │ 0         │ 1 │\n",
      "╘═══════════╧═══════════╧═══╛\n"
     ]
    },
    {
     "data": {
      "image/png": "[encoded data removed]",
      "text/plain": [
       "<Figure size 360x360 with 1 Axes>"
      ]
     },
     "metadata": {
      "needs_background": "light"
     },
     "output_type": "display_data"
    }
   ],
   "source": [
    "w1 = 5\n",
    "Sx = np.tan(np.radians(w1))\n",
    "w2 = 5\n",
    "Sy = np.tan(np.radians(w2))\n",
    "\n",
    "Sh = np.array([[1 , Sy, 0],\n",
    "              [Sx, 1, 0],\n",
    "              [0 , 0, 1]])\n",
    "\n",
    "print(\"Shear Component:\\n\")\n",
    "print(tabulate(Sh, tablefmt=\"fancy_grid\"))\n",
    "\n",
    "apply_transformation(points,col,Sh)"
   ]
  },
  {
   "cell_type": "markdown",
   "metadata": {},
   "source": [
    "**I can alpply them all one after the onter or i can multiply them to get on final matrix thatn includes all the transformations**"
   ]
  },
  {
   "cell_type": "code",
   "execution_count": 12,
   "metadata": {},
   "outputs": [],
   "source": [
    "#rotation\n",
    "W = np.radians(-90)\n",
    "R = np.array([[np.cos(W),np.sin(W),0],[-np.sin(W),np.cos(W),0],[0,0,1]])\n",
    "\n",
    "#translation\n",
    "tx = 100\n",
    "ty = 100\n",
    "T = np.array([[1,0,tx],[0,1,ty],[0,0,1]])\n",
    "\n",
    "#Scalling\n",
    "sx = 1.2\n",
    "sy = 1.2\n",
    "S = np.array([[sx,0,0],[0,sy,0],[0,0,1]])\n",
    "\n",
    "#Shearing\n",
    "w1 = 5\n",
    "Sx = np.tan(np.radians(w1))\n",
    "w2 = 5\n",
    "Sy = np.tan(np.radians(w2))\n",
    "\n",
    "Sh = np.array([[1 , Sy, 0],\n",
    "              [Sx, 1, 0],\n",
    "              [0 , 0, 1]])"
   ]
  },
  {
   "cell_type": "code",
   "execution_count": 13,
   "metadata": {},
   "outputs": [
    {
     "name": "stdout",
     "output_type": "stream",
     "text": [
      "Initial\n"
     ]
    },
    {
     "data": {
      "image/png": "[encoded data removed]",
      "text/plain": [
       "<Figure size 360x360 with 1 Axes>"
      ]
     },
     "metadata": {
      "needs_background": "light"
     },
     "output_type": "display_data"
    }
   ],
   "source": [
    "print(\"Initial\")\n",
    "reset_poins()\n",
    "apply_transformation(points,col,np.identity(3))"
   ]
  },
  {
   "cell_type": "code",
   "execution_count": 14,
   "metadata": {},
   "outputs": [
    {
     "name": "stdout",
     "output_type": "stream",
     "text": [
      "transformed\n"
     ]
    },
    {
     "data": {
      "image/png": "[encoded data removed]",
      "text/plain": [
       "<Figure size 360x360 with 1 Axes>"
      ]
     },
     "metadata": {
      "needs_background": "light"
     },
     "output_type": "display_data"
    }
   ],
   "source": [
    "print(\"transformed\")\n",
    "reset_poins()\n",
    "apply_transformation(points,col,Sh@R@T@S)"
   ]
  },
  {
   "cell_type": "code",
   "execution_count": 15,
   "metadata": {},
   "outputs": [
    {
     "name": "stdout",
     "output_type": "stream",
     "text": [
      "transformed\n"
     ]
    },
    {
     "data": {
      "image/png": "[encoded data removed]",
      "text/plain": [
       "<Figure size 360x360 with 1 Axes>"
      ]
     },
     "metadata": {
      "needs_background": "light"
     },
     "output_type": "display_data"
    }
   ],
   "source": [
    "print(\"transformed\")\n",
    "reset_poins()\n",
    "apply_transformation(points,col,R@T@S@Sh)"
   ]
  },
  {
   "cell_type": "code",
   "execution_count": null,
   "metadata": {},
   "outputs": [],
   "source": []
  }
 ],
 "metadata": {
  "kernelspec": {
   "display_name": "Python 3",
   "language": "python",
   "name": "python3"
  },
  "language_info": {
   "codemirror_mode": {
    "name": "ipython",
    "version": 3
   },
   "file_extension": ".py",
   "mimetype": "text/x-python",
   "name": "python",
   "nbconvert_exporter": "python",
   "pygments_lexer": "ipython3",
   "version": "3.7.3"
  }
 },
 "nbformat": 4,
 "nbformat_minor": 2
}
